{
 "cells": [
  {
   "cell_type": "code",
   "execution_count": null,
   "metadata": {},
   "outputs": [],
   "source": [
    "import pandas as pd\n",
    "import seaborn as sns\n",
    "import matplotlib.pyplot as plt\n",
    "sns.set(rc={'figure.figsize':(12,9)})"
   ]
  },
  {
   "cell_type": "code",
   "execution_count": null,
   "metadata": {},
   "outputs": [],
   "source": [
    "df = pd.read_csv(\"filename.csv\")\n",
    "df.head()"
   ]
  },
  {
   "cell_type": "code",
   "execution_count": null,
   "metadata": {},
   "outputs": [],
   "source": [
    "digit_counts = df[\"variable_name_here\"].dropna().astype(str).str[0].value_counts(normalize=True)\n",
    "digit_counts"
   ]
  },
  {
   "cell_type": "code",
   "execution_count": null,
   "metadata": {},
   "outputs": [],
   "source": [
    "my_variable_name = \"Variable Description Here\"\n",
    "benford_df = pd.DataFrame({\"Leading Digit\": ['1', '2', '3', '4', '5', '6', '7', '8', '9'], \"Proportion\": [.301, .176, .125, .097, .079, .067, .058, .051, .046], \"Distribution\": \"Benford\"})\n",
    "my_variable_df = pd.DataFrame({\"Leading Digit\": digit_counts.index, \"Proportion\": digit_counts.values, \"Distribution\": my_variable_name})\n",
    "pd.concat([benford_df, my_variable_df]).pivot(\"Leading Digit\", \"Distribution\", \"Proportion\").plot(kind=\"bar\", width=.65)\n",
    "plt.rcParams[\"font.weight\"] = \"bold\"\n",
    "plt.title(\"Comparing %s to Benford's Law\"%my_variable_name, fontsize=24, fontweight=\"bold\")\n",
    "plt.xlabel(\"Leading Digit\", fontsize=18, fontweight=\"bold\")\n",
    "plt.ylabel(\"Proportion\", fontsize=18, fontweight=\"bold\")\n",
    "plt.xticks(fontsize=18, fontweight=\"bold\", rotation=0)\n",
    "plt.yticks(fontsize=18, fontweight=\"bold\")\n",
    "plt.legend(fontsize=18)"
   ]
  },
  {
   "cell_type": "code",
   "execution_count": null,
   "metadata": {},
   "outputs": [],
   "source": []
  }
 ],
 "metadata": {
  "kernelspec": {
   "display_name": "Python 3",
   "language": "python",
   "name": "python3"
  },
  "language_info": {
   "codemirror_mode": {
    "name": "ipython",
    "version": 3
   },
   "file_extension": ".py",
   "mimetype": "text/x-python",
   "name": "python",
   "nbconvert_exporter": "python",
   "pygments_lexer": "ipython3",
   "version": "3.7.6"
  }
 },
 "nbformat": 4,
 "nbformat_minor": 4
}
